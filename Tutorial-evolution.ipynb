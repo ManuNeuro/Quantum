{
 "cells": [
  {
   "cell_type": "markdown",
   "metadata": {},
   "source": [
    "# Time evolution\n",
    "\n",
    "In this lab we will explore how to program the evolution operator in a quantum circuit.\n",
    "\n",
    "For a given Hamiltonian $H$, and a state $\\vert\\psi\\rangle$ the time evolution of this state is given by the Schrödinger’s equation:\n",
    "\n",
    "$$i\\bar{h}\\frac{d}{dt}\\vert\\psi\\rangle=H\\vert\\psi\\rangle$$\n",
    "\n",
    "With $\\bar{h}$ the Plank's constant and $H$ is a Hermitian operator independant of time $t$.\n",
    "The solution to this equation is:\n",
    "\n",
    "$$\\vert\\psi(t)\\rangle=e^{-iHt}\\vert \\psi(0)\\rangle$$\n",
    "\n",
    "Now, most quantum systems are described by such time evolution equation, and it is of importance to be able to convert these into quantum circuit.\n",
    "\n"
   ]
  },
  {
   "cell_type": "markdown",
   "metadata": {},
   "source": [
    "# Evolution operator\n",
    "\n",
    "We can pose $U(t)=e^{-iHt}$; $U(t)$ a unitary evolution operator. "
   ]
  }
 ],
 "metadata": {
  "interpreter": {
   "hash": "06083bd776f62e7fab1a1ecb42a809aa7166993e833de293bc9c2c3bbc3e2e2a"
  },
  "kernelspec": {
   "display_name": "Python 3.7.10 ('quantum')",
   "language": "python",
   "name": "python3"
  },
  "language_info": {
   "name": "python",
   "version": "3.7.10"
  },
  "orig_nbformat": 4
 },
 "nbformat": 4,
 "nbformat_minor": 2
}
