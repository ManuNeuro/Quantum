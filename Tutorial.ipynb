{
 "cells": [
  {
   "cell_type": "code",
   "execution_count": null,
   "source": [],
   "outputs": [],
   "metadata": {}
  },
  {
   "cell_type": "markdown",
   "source": [
    "![image](resources/qcqh-lab-header.png)"
   ],
   "metadata": {}
  },
  {
   "cell_type": "markdown",
   "source": [
    "# Lab 1: Single-qubit and multi-qubit states, quantum teleportation"
   ],
   "metadata": {}
  },
  {
   "cell_type": "markdown",
   "source": [
    "> Adapted by *Emmanuel Calvet*,\r\n",
    "\r\n",
    "> From Lab 1 of [**Introduction to Quantum Computing and Quantum Hardware**](https://qiskit.org/learn/intro-qc-qh/).\r\n",
    "---\r\n",
    "\r\n",
    "In this lab, you will learn how to write `Qiskit` code and investigate single-qubit and multi-qubit states using the `bloch-sphere` and `qpshere` visualization.\r\n",
    "\r\n",
    "If you have not used Jupyter notebooks before, take a look at the following video to quickly get started.\r\n",
    "- https://www.youtube.com/watch?v=jZ952vChhuI\r\n",
    "\r\n",
    "Remember, to run a cell in Jupyter notebooks, you press `Shift` + `Return/Enter` on your keyboard.\r\n",
    "To add a cell, press `alt` + `Return/Enter`."
   ],
   "metadata": {}
  },
  {
   "cell_type": "markdown",
   "source": [
    "Before we begin, you will need to install some prerequisites into your environment. Run the cell below to complete these installations. At the end, the cell outputs will be cleared."
   ],
   "metadata": {}
  },
  {
   "cell_type": "code",
   "execution_count": null,
   "source": [
    "#!pip install -U -r resources/requirements.txt\r\n",
    "\r\n",
    "from IPython.display import clear_output\r\n",
    "clear_output()\r\n"
   ],
   "outputs": [],
   "metadata": {}
  },
  {
   "cell_type": "markdown",
   "source": [
    "# Single-qubit states"
   ],
   "metadata": {}
  },
  {
   "cell_type": "markdown",
   "source": [
    "In lecture, you learned that single qubit states can be written down generally as \r\n",
    "\r\n",
    "$$\\sqrt{1-p}\\vert0\\rangle + e^{i\\phi}\\sqrt{p}\\vert1\\rangle$$\r\n",
    "\r\n",
    "Here, $p$ is the probability that a measurement of the state in the computational basis $\\{\\vert0\\rangle, \\vert1\\rangle\\}$ will have the outcome $1$, and $\\phi$ is the phase between the two computational basis states. \r\n",
    "\r\n",
    "Single-qubit gates can then be used to manipulate this quantum state by changing either $p$, $\\phi$, or both.\r\n",
    "\r\n",
    "\r\n",
    "Let's begin by creating a single-qubit quantum circuit. We can do this in `Qiskit` using the following:"
   ],
   "metadata": {}
  },
  {
   "cell_type": "code",
   "execution_count": null,
   "source": [
    "from qiskit import QuantumCircuit\r\n",
    "import warnings\r\n",
    "warnings.filterwarnings('ignore')\r\n",
    "\r\n",
    "mycircuit = QuantumCircuit(1)\r\n",
    "mycircuit.draw('mpl')"
   ],
   "outputs": [],
   "metadata": {}
  },
  {
   "cell_type": "markdown",
   "source": [
    "The above quantum circuit does not contain any gates. Therefore, if you start in any state, say $\\vert0\\rangle$, applying this circuit to your state doesn't change the state. \n",
    "\n",
    "To see this clearly, let's create the statevector $\\vert0\\rangle$. In `Qiskit`, you can do this using the following:"
   ],
   "metadata": {}
  },
  {
   "cell_type": "code",
   "execution_count": null,
   "source": [
    "from qiskit.quantum_info import Statevector\r\n",
    "\r\n",
    "sv = Statevector.from_label('0')"
   ],
   "outputs": [],
   "metadata": {}
  },
  {
   "cell_type": "markdown",
   "source": [
    "You can see what's contained in the object `sv`:"
   ],
   "metadata": {}
  },
  {
   "cell_type": "code",
   "execution_count": null,
   "source": [
    "sv"
   ],
   "outputs": [],
   "metadata": {}
  },
  {
   "cell_type": "markdown",
   "source": [
    "The vector itself can be found by writing"
   ],
   "metadata": {}
  },
  {
   "cell_type": "markdown",
   "source": [
    "A qubit is a vector two-dimensional complex vector :\r\n",
    "\r\n",
    "$$\\vert0\\rangle = \\begin{bmatrix} 1 \\\\0 \\end{bmatrix} $$\r\n",
    "\r\n",
    "We can now apply the quantum circuit `mycircuit` to this state by using the following:"
   ],
   "metadata": {}
  },
  {
   "cell_type": "code",
   "execution_count": null,
   "source": [
    "new_sv = sv.evolve(mycircuit)"
   ],
   "outputs": [],
   "metadata": {}
  },
  {
   "cell_type": "markdown",
   "source": [
    "Once again, you can look at the new statevector by writing"
   ],
   "metadata": {}
  },
  {
   "cell_type": "code",
   "execution_count": null,
   "source": [
    "new_sv"
   ],
   "outputs": [],
   "metadata": {}
  },
  {
   "cell_type": "markdown",
   "source": [
    "A way to represent the state of one qubit is the `bloch sphere`.\r\n",
    "\r\n",
    "This map the vector state $|\\psi\\rangle=\\alpha|0\\rangle+e^{i\\phi}\\beta|1\\rangle$ with $\\alpha, \\beta \\in \\mathbb{R}$\r\n",
    "\r\n",
    "Since we have the normalization condition imposing $\\sqrt{\\alpha^2+\\beta^2}=1$,\r\n",
    "\r\n",
    "By applying thetrigonometry formula $\\sqrt{cos(x)^2+sin(x)^2}=1$\r\n",
    "\r\n",
    "We derive that $|\\psi\\rangle=cos(\\theta/2)|0\\rangle+e^{i\\phi}sin(\\theta/2)|1\\rangle$\r\n"
   ],
   "metadata": {}
  },
  {
   "cell_type": "code",
   "execution_count": null,
   "source": [
    "from qiskit.visualization import plot_bloch_multivector\r\n",
    "from qiskit.quantum_info import Statevector\r\n",
    "\r\n",
    "plot_bloch_multivector(new_sv.data)"
   ],
   "outputs": [],
   "metadata": {}
  },
  {
   "cell_type": "markdown",
   "source": [
    "Applying an $X$ gate flips the qubit from the state $\\vert0\\rangle$ to the state $\\vert1\\rangle$. To see this clearly, we will first create a single-qubit quantum circuit with the $X$ gate."
   ],
   "metadata": {}
  },
  {
   "cell_type": "code",
   "execution_count": null,
   "source": [
    "mycircuit = QuantumCircuit(1)\r\n",
    "mycircuit.x(0)\r\n",
    "\r\n",
    "mycircuit.draw('mpl')"
   ],
   "outputs": [],
   "metadata": {}
  },
  {
   "cell_type": "markdown",
   "source": [
    "Now, we can apply this circuit onto our state by writing"
   ],
   "metadata": {}
  },
  {
   "cell_type": "code",
   "execution_count": null,
   "source": [
    "sv = Statevector.from_label('0')\r\n",
    "new_sv = sv.evolve(mycircuit)\r\n",
    "new_sv"
   ],
   "outputs": [],
   "metadata": {}
  },
  {
   "cell_type": "markdown",
   "source": [
    "As you can see, the statevector now corresponds to that of the state $\\vert1\\rangle$. Recall that\n",
    "\n",
    "$$\\vert1\\rangle = \\begin{bmatrix}0\\\\1\\end{bmatrix}$$"
   ],
   "metadata": {}
  },
  {
   "cell_type": "markdown",
   "source": [
    "This is not surprising. Recall from the lecture that the states $\\vert0\\rangle$ and $\\vert1\\rangle$ are orthogonal. Therefore, $\\langle0\\vert1\\rangle = 0$. The state can be shown on the `qsphere` by writing"
   ],
   "metadata": {}
  },
  {
   "cell_type": "code",
   "execution_count": null,
   "source": [
    "plot_bloch_multivector(new_sv.data)"
   ],
   "outputs": [],
   "metadata": {}
  },
  {
   "cell_type": "markdown",
   "source": [
    "These previous state are no different from classical bit\r\n",
    "\r\n",
    "Now we will create the state $$\\frac{1}{\\sqrt{2}}\\left(\\vert0\\rangle + \\vert1\\rangle\\right)$$\r\n",
    "by applying a Hadamard gate.\r\n",
    "\r\n",
    " Here is how we can create the state and visualize it in `Qiskit`:"
   ],
   "metadata": {}
  },
  {
   "cell_type": "code",
   "execution_count": null,
   "source": [
    "sv = Statevector.from_label('0')\r\n",
    "mycircuit = QuantumCircuit(1)\r\n",
    "mycircuit.h(0)\r\n",
    "mycircuit.draw('mpl')"
   ],
   "outputs": [],
   "metadata": {}
  },
  {
   "cell_type": "code",
   "execution_count": null,
   "source": [
    "new_sv = sv.evolve(mycircuit)\r\n",
    "print(new_sv)\r\n",
    "plot_bloch_multivector(new_sv.data)"
   ],
   "outputs": [],
   "metadata": {}
  },
  {
   "cell_type": "markdown",
   "source": [
    "As you can see above, the state is now a superposition of both basis vector $\\vert0\\rangle$ and $\\vert1\\rangle$. \r\n",
    "\r\n",
    "The `Hadamard` gate rotated the vector state the **y** axis, of an angle $\\frac{\\pi}{2}$."
   ],
   "metadata": {}
  },
  {
   "cell_type": "markdown",
   "source": [
    "We can also create other superpositions with different phases. \r\n",
    "\r\n",
    "Let's create $$\\frac{1}{\\sqrt{2}}\\left(\\vert0\\rangle - \\vert1\\rangle\\right)$$ which can be done by applying the Hadamard gate on the state $\\vert1\\rangle$."
   ],
   "metadata": {}
  },
  {
   "cell_type": "code",
   "execution_count": null,
   "source": [
    "sv = Statevector.from_label('1')\r\n",
    "mycircuit = QuantumCircuit(1)\r\n",
    "mycircuit.h(0)\r\n",
    "\r\n",
    "new_sv = sv.evolve(mycircuit)\r\n",
    "print(new_sv)\r\n",
    "plot_bloch_multivector(new_sv.data)"
   ],
   "outputs": [],
   "metadata": {}
  },
  {
   "cell_type": "markdown",
   "source": [
    "This time, the vector was rotated to the phase of $\\phi = \\pi$. This is because the coefficient of $\\vert1\\rangle$ in the state $$\\frac{1}{\\sqrt{2}}\\left(\\vert0\\rangle - \\vert1\\rangle\\right)$$ is $-1$, which is equal to $e^{i\\pi}$.\r\n",
    "\r\n",
    "Other phases can also be created by applying different gates. The $T$ and $S$ gates apply phases of $+\\pi/4$ and $+\\pi/2$, respectively. The widget below helps you see different gates, and their actions on single-qubit quantum states."
   ],
   "metadata": {}
  },
  {
   "cell_type": "markdown",
   "source": [
    "You can play around with the `block-sphere` : [https://javafxpert.github.io/grok-bloch/](https://javafxpert.github.io/grok-bloch/))\r\n",
    "![](resources/Bloch-sphere.png)"
   ],
   "metadata": {}
  },
  {
   "cell_type": "markdown",
   "source": [
    "# What happend when we run the circuit ?\r\n",
    "\r\n",
    "In Quantum Computing you cannot directly get information from the qubits, first tou need to `measure` them, which will cause\r\n",
    "a modification of their states !\r\n",
    "- First, note that we use a second argument in the `QuantumCircuit(1,1)` command. The second argument says that we will be creating a quantum circuit that contains one qubits (the first argument), and one classical bits (the second argument).\r\n",
    "- Second, note that the `measure` command takes two arguments. The first argument is the set of qubits that will be measured. The second is the set of classical bits onto which the outcomes from the measurements of the qubits will be stored.\r\n",
    "\r\n",
    "*NB : Typically, in QC the basis along wich you measure is the **z** axis, you cannot measure a superposition, you always project \r\n",
    "the qubit state along a measurable basis state $|0\\rangle$ or $|1\\rangle$.*\r\n",
    "\r\n",
    "Next, you will need to create a `backend` and give it to the `execute` function along with your circuit.\r\n",
    "- We will use `Qiskit`'s built-in `Aer` simulators to run the circuit. To get the measurement counts, we can use the following code:"
   ],
   "metadata": {}
  },
  {
   "cell_type": "code",
   "execution_count": null,
   "source": [
    "from qiskit import Aer, execute\r\n",
    "from qiskit.visualization import  plot_histogram\r\n",
    "\r\n",
    "# Create the circuit\r\n",
    "mycircuit = QuantumCircuit(1, 1)\r\n",
    "mycircuit.h(0)\r\n",
    "mycircuit.measure(0, 0)\r\n",
    "\r\n",
    "# Call a simulator backend\r\n",
    "backend_sim = Aer.get_backend('qasm_simulator')\r\n",
    "job = execute(mycircuit, backend_sim, shots=1000)\r\n",
    "\r\n",
    "print(job.result().get_counts())\r\n",
    "plot_histogram(job.result().get_counts())"
   ],
   "outputs": [],
   "metadata": {}
  },
  {
   "cell_type": "markdown",
   "source": [
    "## Measuse / projection\r\n",
    "\r\n",
    "<mark>Born Rule</mark> : the probability that a state $|\\psi\\rangle$ collpases during a projective measurement onto the state $|x\\rangle\\in \\left\\{|0\\rangle, |1\\rangle \\right\\}$  is given by :\r\n",
    "$$P(x) = {\\left| \\langle x|\\psi\\rangle\\right|}^2; with \\sum_i{P(x_i)=1}$$\r\n",
    "\r\n",
    "With the previous example, the state of the qubit is $|\\psi\\rangle= \\frac{1}{\\sqrt{2}} (|0\\rangle + |1\\rangle)$\r\n",
    "\r\n",
    "Let's measure the probability of getting the the qubit in the state $|0\\rangle$ :\r\n",
    "$${\\left| \\langle 0|\\psi\\rangle\\right|}^2=\\frac{1}{2} {\\left| \\langle 0|(|0\\rangle + |1\\rangle)\\right|}^2$$\r\n",
    "$$=\\frac{1}{2} {\\left| \\langle 0|0\\rangle + \\cancel{\\langle 0|1\\rangle})\\right|}^2$$\r\n",
    "$$=\\frac{1}{2} {\\left| 1\\right|}^2=\\frac{1}{2}$$\r\n"
   ],
   "metadata": {}
  },
  {
   "cell_type": "markdown",
   "source": [
    "# Multi-qubit states"
   ],
   "metadata": {}
  },
  {
   "cell_type": "markdown",
   "source": [
    "Similar to the discussion above, you can also explore multi-qubit gates in `Qiskit`. \r\n",
    "\r\n",
    "In lecture, you learned about Bell states, and how they can be generated using quantum gates. We will demonstrate below how to create the Bell state $$\\frac{1}{\\sqrt{2}}\\left(\\vert00\\rangle + \\vert11\\rangle\\right)$$ from the state $\\vert00\\rangle$. We'll start by visualizing the state $\\vert00\\rangle$ using the same procedure:"
   ],
   "metadata": {}
  },
  {
   "cell_type": "code",
   "execution_count": null,
   "source": [
    "from qiskit.visualization import plot_state_qsphere\r\n",
    "\r\n",
    "sv = Statevector.from_label('00')\r\n",
    "plot_state_qsphere(sv.data)"
   ],
   "outputs": [],
   "metadata": {}
  },
  {
   "cell_type": "markdown",
   "source": [
    "Next, we use the Hadamard gate described above, along with a controlled-X gate, to create the Bell state."
   ],
   "metadata": {}
  },
  {
   "cell_type": "code",
   "execution_count": null,
   "source": [
    "mycircuit = QuantumCircuit(2)\r\n",
    "mycircuit.h(0)\r\n",
    "mycircuit.cx(0,1)\r\n",
    "mycircuit.draw('mpl')"
   ],
   "outputs": [],
   "metadata": {}
  },
  {
   "cell_type": "markdown",
   "source": [
    "The result of this quantum circuit on the state $\\vert00\\rangle$ is found by writing"
   ],
   "metadata": {}
  },
  {
   "cell_type": "code",
   "execution_count": null,
   "source": [
    "new_sv = sv.evolve(mycircuit)\r\n",
    "print(new_sv)\r\n",
    "plot_state_qsphere(new_sv.data)"
   ],
   "outputs": [],
   "metadata": {}
  },
  {
   "cell_type": "markdown",
   "source": [
    "## Measurements"
   ],
   "metadata": {}
  },
  {
   "cell_type": "markdown",
   "source": [
    "Here is an example that creates the same Bell state and applies a measurement."
   ],
   "metadata": {}
  },
  {
   "cell_type": "code",
   "execution_count": null,
   "source": [
    "mycircuit = QuantumCircuit(2, 2)\r\n",
    "mycircuit.h(0)\r\n",
    "mycircuit.cx(0,1)\r\n",
    "mycircuit.measure([0,1], [0,1])\r\n",
    "mycircuit.draw('mpl')"
   ],
   "outputs": [],
   "metadata": {}
  },
  {
   "cell_type": "markdown",
   "source": [
    "In this example we used a CNOT gate, here is the logic table :\r\n",
    "\r\n",
    "|input|output|\r\n",
    "|---|--------|\r\n",
    "|x y| x x $\\oplus$ y|\r\n",
    "|0 0| 0  0 |\r\n",
    "|0 1| 0  1 |\r\n",
    "|1 0| 1  1 |\r\n",
    "|1 1| 1  0 |"
   ],
   "metadata": {}
  },
  {
   "cell_type": "code",
   "execution_count": null,
   "source": [
    "from qiskit import Aer, execute\r\n",
    "simulator = Aer.get_backend('qasm_simulator')\r\n",
    "result = execute(mycircuit, simulator, shots=10000).result()\r\n",
    "counts = result.get_counts(mycircuit)\r\n",
    "plot_histogram(counts)"
   ],
   "outputs": [],
   "metadata": {}
  },
  {
   "cell_type": "markdown",
   "source": [
    "# Parametrized circuit on a real quantum computer\r\n",
    "\r\n",
    "In this example we will take the same circuit and add a `parameter`, then `execute` it with many values in a real quantum circuit."
   ],
   "metadata": {}
  },
  {
   "cell_type": "code",
   "execution_count": null,
   "source": [
    "from qiskit.circuit import Parameter\r\n",
    "\r\n",
    "theta = Parameter('theta') # Create a Parameter object \r\n",
    "qc = QuantumCircuit(2)\r\n",
    "qc.ry(theta, 0) # Gates can be parametrized this way\r\n",
    "qc.h(0)\r\n",
    "qc.cx(0, 1)\r\n",
    "qc.measure_all()\r\n",
    "qc.draw('mpl')"
   ],
   "outputs": [],
   "metadata": {}
  },
  {
   "cell_type": "markdown",
   "source": [
    "Now we create a list of circuit with all different initialization of the parameter\r\n"
   ],
   "metadata": {}
  },
  {
   "cell_type": "code",
   "execution_count": null,
   "source": [
    "import numpy as np\r\n",
    "\r\n",
    "parameter_binds = {theta : 2*np.pi/3} # Dictionary \r\n",
    "qc_a = qc.assign_parameters(parameter_binds) # A quantum circuit with given parameter\r\n",
    " \r\n",
    "thetas = np.linspace(0, 2*np.pi, 11)\r\n",
    "qcs = list() \r\n",
    "for t in thetas: # You can create a list a circuit with various parameter values\r\n",
    "    qcs.append(qc.assign_parameters({theta : t})) "
   ],
   "outputs": [],
   "metadata": {}
  },
  {
   "cell_type": "markdown",
   "source": [
    "## Several things to note :\r\n",
    "1. We can create a list, and put circuits inside it, with various initialization of parameters\r\n",
    "2. ```assign_parameters``` is a method of QuantumCircuit object, that allow you to give a value for parameters.\r\n",
    "    - The arguments of this method is a ```dict```, of the parameter as a *key*, and given value as *value*."
   ],
   "metadata": {}
  },
  {
   "cell_type": "markdown",
   "source": [
    "# Connect to IBMQ\r\n",
    "\r\n",
    "You need to log in you IBM account at the adress : [https://quantum-computing.ibm.com/](https://quantum-computing.ibm.com/)\r\n",
    "\r\n",
    "Then in the first page, get your **API token**.\r\n",
    "\r\n",
    "If you have trouble to connect, check to the qiskit [documentation](https://quantum-computing.ibm.com/lab/docs/iql/manage/account/ibmq)."
   ],
   "metadata": {}
  },
  {
   "cell_type": "code",
   "execution_count": null,
   "source": [
    "from qiskit import IBMQ\r\n",
    "\r\n",
    "Token = \"YOUR_TOKEN\" # Replace with your token\r\n",
    "#IBMQ.save_account(token) # Uncoment the first time !\r\n",
    "provider = IBMQ.load_account()"
   ],
   "outputs": [],
   "metadata": {}
  },
  {
   "cell_type": "markdown",
   "source": [
    "Now we will load a backend with a real quantum computer !\r\n",
    "\r\n",
    "Then we will load so usefull information about this circuit."
   ],
   "metadata": {}
  },
  {
   "cell_type": "code",
   "execution_count": null,
   "source": [
    "from qiskit.visualization import plot_gate_map, plot_error_map\r\n",
    "\r\n",
    "backend = provider.get_backend('ibmq_lima')\r\n",
    "plot_error_map(backend)"
   ],
   "outputs": [],
   "metadata": {}
  },
  {
   "cell_type": "markdown",
   "source": [
    "Here you can check many intersting informations :\r\n",
    "1. The (%) of readout error of each qubit : You can select the qubit you want to use to minimize the error.\r\n",
    "2. The (%) of error of the `H` and `CNOT` gate : Using too much gates can lead to high errors.\r\n",
    "3. The architecture of the circuit : If you need to connect qubits that are not connected in the graph, you have to use `SWAP` gates. They are composed of three alternating `CNOT`, thus they induce even more errors !"
   ],
   "metadata": {}
  },
  {
   "cell_type": "code",
   "execution_count": null,
   "source": [
    "from qiskit.tools.monitor import job_monitor\r\n",
    "\r\n",
    "job = execute(qcs, backend, shots=1024, initial_layout=[0, 1]) # Add the two qubit you probably should use from indexes [0, 1, 2, 3 4]\r\n",
    "job_monitor(job) # Gives status of the job"
   ],
   "outputs": [],
   "metadata": {}
  },
  {
   "cell_type": "markdown",
   "source": [
    "If you gave a list of several circuits to be executed, then you have to give the circuit as an argument of `get_counts` to get the result of the circuit you want !"
   ],
   "metadata": {}
  },
  {
   "cell_type": "code",
   "execution_count": null,
   "source": [
    "import matplotlib.pyplot as plt\r\n",
    "\r\n",
    "circ = 1 # Select the circuit you want to display\r\n",
    "plot = plot_histogram(job.result().get_counts(qcs[circ]))"
   ],
   "outputs": [],
   "metadata": {}
  },
  {
   "cell_type": "markdown",
   "source": [
    "# Additional reading\n",
    "\n",
    "- You can watch a video on building the quantum teleportation quantum circuit here: https://www.youtube.com/watch?v=mMwovHK2NrE&list=PLOFEBzvs-Vvp2xg9-POLJhQwtVktlYGbY&index=6&t=0s\n",
    "\n",
    "- For additional details about the quantum teleportation algorithm, including the principle of deferred measurement, you can refer to the Qiskit Textbook's section on the algorithm here: https://qiskit.org/textbook/ch-algorithms/teleportation.html\n",
    "\n",
    "- The `1 minute Qiskit` episode entitled `What is the qsphere?` succinctly describes the Qsphere visualization tool that we used in this lab. You can find it here: https://youtu.be/4SoK2h4a7us"
   ],
   "metadata": {}
  }
 ],
 "metadata": {
  "kernelspec": {
   "name": "python3",
   "display_name": "Python 3.7.10 64-bit ('quantum': conda)"
  },
  "language_info": {
   "codemirror_mode": {
    "name": "ipython",
    "version": 3
   },
   "file_extension": ".py",
   "mimetype": "text/x-python",
   "name": "python",
   "nbconvert_exporter": "python",
   "pygments_lexer": "ipython3",
   "version": "3.7.10"
  },
  "interpreter": {
   "hash": "06083bd776f62e7fab1a1ecb42a809aa7166993e833de293bc9c2c3bbc3e2e2a"
  }
 },
 "nbformat": 4,
 "nbformat_minor": 4
}