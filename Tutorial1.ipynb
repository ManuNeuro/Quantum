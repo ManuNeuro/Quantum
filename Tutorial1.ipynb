{
 "cells": [
  {
   "cell_type": "markdown",
   "metadata": {},
   "source": [
    "![image](resources/qcqh-lab-header.png)\n",
    "\n",
    "This code is a Qiskit implementation, inspired by [Pennylane's first tutorial](https://pennylane.ai/qml/demos/tutorial_qubit_rotation.html).\n",
    "\n",
    "# Objective \n",
    "We want to construct a NOT gate using a 3-parameters, parametrized quantum circuit by classical optimization of its parameters.\n",
    "\n",
    "# Quantum circuit\n",
    "In previous tutorial we have seen that qubits states are always initialized in the state $|0\\rangle=\\begin{bmatrix} 1 \\\\ 0\\end{bmatrix}$.\n",
    "\n",
    "Now we consider the following quantum gate :\n",
    "\n",
    "$$U(\\theta, \\phi, \\lambda) = \\begin{bmatrix} \\cos(\\frac{\\theta}{2}) & -e^{i\\lambda}\\sin(\\frac{\\theta}{2}) \\\\\n",
    "            e^{i\\phi}\\sin(\\frac{\\theta}{2}) & e^{i(\\phi+\\lambda)}\\cos(\\frac{\\theta}{2})\n",
    "     \\end{bmatrix}$$\n",
    "\n",
    "$U$ stands for unitary, which means that $U^{\\dagger}U=\\mathbb{I}$ ($\\dagger$ is the complex conjugate). This gate is the most general *one qubit* quantum gate, from which you can derive all other *one qubit* canonical gates. For simplicity, we will write $U_3$ as it has three parameters.\n",
    "\n",
    "# Protocole :\n",
    "1. First, we will apply this gate to the initial state $|0\\rangle$, such that the obtained new state is $|\\psi\\rangle=U_3|0\\rangle$.\n",
    "2. Second, we will measure the expectation value  $\\langle\\psi|\\sigma_z|\\psi\\rangle$ along the axis Z, with the observable Pauli-Z operator :\n",
    "\n",
    "$$\\begin{split}\\sigma_z =\n",
    "\\begin{bmatrix} 1 &  0 \\\\\n",
    "                0 & -1\n",
    "\\end{bmatrix}\\end{split}$$\n",
    "\n",
    "# Solution\n",
    "First, by replacing $|\\psi\\rangle$ in the expression $\\langle\\psi|\\sigma_z|\\psi\\rangle$ we have :\n",
    "\n",
    "$$\\langle\\psi|\\sigma_z|\\psi\\rangle = \\langle0|U_3^{\\dagger}\\sigma_zU_3|0\\rangle$$\n",
    "\n",
    "Then, by recalling that $\\dagger$ is the complex conjugate, and with a bit of maths, we can show that the solution is :\n",
    "$$\\langle\\psi|\\sigma_z|\\psi\\rangle=cos^2(\\theta/2)-sin^2(\\theta/2)$$\n",
    "\n",
    "---\n",
    "Recall our objective is to perform a not gate, which means that we want the following:\n",
    "- $U_3|0\\rangle=|1\\rangle$\n",
    "- $U_3|1\\rangle=|0\\rangle$\n",
    "---\n",
    "\n",
    "Several things to note in that regard:\n",
    "1. First, since we measure on the Z-basis, the solution only depends on the parameter $\\theta$; hence, the two other parameters are not needed.\n",
    "2. We can easily deduce the optimal parameter value by plotting some parameter values  :\n",
    "     - For $\\theta=0$ $\\rarr$  $cos^2(\\theta/2)-sin^2(\\theta/2)=1$\n",
    "     - For $\\theta=\\pi/2$ $\\rarr$  $cos^2(\\theta/2)-sin^2(\\theta/2)=0$\n",
    "     - For $\\theta=\\pi$ $\\rarr$  $cos^2(\\theta/2)-sin^2(\\theta/2)=-1$\n",
    "3. Remark that for $\\theta=\\pi$, assuming $\\phi$ and $\\lambda$ are zero, we will obtain exactly the Pauli-X gate :\n",
    "$$U(\\pi, 0, 0)=\\begin{split}\\sigma_x =\n",
    "\\begin{bmatrix} 0 &  1 \\\\\n",
    "                1 & 0\n",
    "\\end{bmatrix}\\end{split}$$\n",
    "4. Trivially, the solution we hope the algorithm will find, is $\\theta=\\pi$ ! Because\n",
    "by definition :\n",
    "$$\\sigma_x|0\\rangle=|1\\rangle=\\begin{bmatrix} 0 \\\\ 1 \\end{bmatrix}$$\n",
    "\n",
    "*NB : why do we get expectation values between 1 and -1 ?*\n",
    "- We are evaluating the expectation value of the Z operator : $<\\sigma_z>$.\n",
    "- Notice that $\\sigma_z|0\\rangle=+|0\\rangle$ and $\\sigma_z|1\\rangle=-|1\\rangle$\n",
    "- It means that 1 and -1 are eigenvalues associated with eigenvectors $|0\\rangle$ and $|1\\rangle$ respectively !\n",
    "\n",
    "# Cost function\n",
    "The role of a cost function is to attribute a cost proportionate to the error between the desired state and the actutal state. Since the solution we want must be the one associated with the minimum in our cost function, without realizing it, we just encoded our **cost function** in the **expectation value**!\n",
    "- For $\\theta=0$ we have $\\langle\\psi|\\sigma_z|\\psi\\rangle=1$ (maximmum cost, worst solution)\n",
    "- For $\\theta=\\pi$ we have $\\langle\\psi|\\sigma_z|\\psi\\rangle=-1$ (minimum cost, optimal solution)\n"
   ]
  },
  {
   "cell_type": "markdown",
   "metadata": {},
   "source": [
    "# Import libraries"
   ]
  },
  {
   "cell_type": "code",
   "execution_count": 1,
   "metadata": {},
   "outputs": [],
   "source": [
    "# Libraries\n",
    "from math import log\n",
    "import matplotlib.pyplot as plt\n",
    "import numpy as np\n",
    "\n",
    "from qiskit import QuantumCircuit, Aer, execute\n",
    "from qiskit.circuit import Parameter\n",
    "from qiskit.algorithms.optimizers import SPSA\n",
    "from qiskit.quantum_info import Statevector\n",
    "\n"
   ]
  },
  {
   "cell_type": "markdown",
   "metadata": {},
   "source": [
    "# Implementing the circuit\n",
    "\n",
    "We have to create a circuit, that will take a `Parameter` object as argument of the `U` gate."
   ]
  },
  {
   "cell_type": "code",
   "execution_count": 2,
   "metadata": {},
   "outputs": [
    {
     "data": {
      "image/png": "[encoded data removed]",
      "text/plain": [
       "<Figure size 193.726x84.28 with 1 Axes>"
      ]
     },
     "execution_count": 2,
     "metadata": {},
     "output_type": "execute_result"
    }
   ],
   "source": [
    "# Quantum circuit with parameters\n",
    "\n",
    "def circuit(qc, W):        \n",
    "    qc.u( W[0],  W[1],  W[2], 0) # Unitary gate with 3 paramters, applied to qubit 0\n",
    "    return qc\n",
    "\n",
    "\n",
    "qc = QuantumCircuit(1) # Create the circuit, with one qubit\n",
    "nbParameter = 3\n",
    "w_param = [Parameter(f'w{i}') for i in range(nbParameter)] # Create a list of Parameter objects\n",
    "qc = circuit(qc, w_param)\n",
    "qc.draw('mpl')"
   ]
  },
  {
   "cell_type": "markdown",
   "metadata": {},
   "source": [
    "# State vector\n",
    "\n",
    "The purpose of this tutorial is to illustrate how the quantum circuit relate\n",
    "to the mathematics.\n",
    "\n",
    "We will use the `statevector_simulator` that can compute the quantum circuit's mathematical state vector as gates are applied.\n",
    "We use the `execute` function to run the circuit as in the previous tutorial.\n",
    "\n",
    "*NB : You cannot access the vector state of a real quantum circuit*\n",
    "\n",
    "Since we will have to perform this operation many times in the optimization process, we need\n",
    "to create a function `get_statevector` :"
   ]
  },
  {
   "cell_type": "code",
   "execution_count": 22,
   "metadata": {},
   "outputs": [],
   "source": [
    "def get_statevector(qc, w, param_w, backend):\n",
    "    \"\"\"\n",
    "    Binds the parameters of a parametrized quantum circuit to their values and execute\n",
    "    the circuit with the statevector simulator.\n",
    "    \"\"\"\n",
    "\n",
    "    # Bind parameter values to the circuit\n",
    "    params_dict = {p:v for (p,v) in zip(param_w, w)} # Create a dictionary of Parameter:value\n",
    "    grounded_circ = qc.bind_parameters(params_dict) # Function to bind parameter to the circuit\n",
    "\n",
    "    # Execute and get state vector\n",
    "    result = execute(grounded_circ, backend).result() # Execute the circuit with given backend\n",
    "    statevector = result.get_statevector() # Obtain the state vector of the circuit\n",
    "\n",
    "    return statevector"
   ]
  },
  {
   "cell_type": "markdown",
   "metadata": {},
   "source": [
    "# Example \n",
    "In the following box, we use the `get_statevector` function to display the state vector for some value of the parameters `w_param`:"
   ]
  },
  {
   "cell_type": "code",
   "execution_count": 28,
   "metadata": {},
   "outputs": [
    {
     "name": "stdout",
     "output_type": "stream",
     "text": [
      "[[0.9999875+0.j        ]\n",
      " [0.004975 +0.00049917j]]\n"
     ]
    }
   ],
   "source": [
    "# Backend simulator\n",
    "sv_sim = Aer.get_backend('statevector_simulator')\n",
    "\n",
    "W_init = [0.01, 0.1, 0.1] # [theta, phi, lambda]\n",
    "psi_ket = get_statevector(qc, W_init, w_param, sv_sim)\n",
    "psi_ket = psi_ket.reshape(2, 1)\n",
    "print(psi_ket)\n"
   ]
  },
  {
   "cell_type": "markdown",
   "metadata": {},
   "source": [
    "As you can see, since we put a very low value for the parameter $\\theta$, the real part in the first dimension of $|\\psi\\rangle$ is very close to one. As expected $|\\psi\\rangle \\sim |0\\rangle$.\n",
    "\n",
    "*NB: You can verify that the result would not change if you modified $\\phi$ or $\\lambda$*."
   ]
  },
  {
   "cell_type": "markdown",
   "metadata": {},
   "source": [
    "# Expectation value\n",
    "\n",
    "Now it is time to implement the expectation value of the pauli-Z operator :\n",
    "\n",
    "$$\\begin{split}\\sigma_z =\n",
    "\\begin{bmatrix} 1 &  0 \\\\\n",
    "                0 & -1\n",
    "\\end{bmatrix}.\\end{split}$$\n",
    "\n",
    "We want to compute $\\langle\\psi|\\sigma_z|\\psi\\rangle$ :"
   ]
  },
  {
   "cell_type": "code",
   "execution_count": 9,
   "metadata": {},
   "outputs": [
    {
     "name": "stdout",
     "output_type": "stream",
     "text": [
      "<psi| = [[0.9999875-0.j         0.004975 -0.00049917j]]\n",
      "---------------\n",
      "Z =\n",
      "[[ 1  0]\n",
      " [ 0 -1]]\n",
      "---------------\n",
      "|psi> =\n",
      "[[0.9999875+0.j        ]\n",
      " [0.004975 +0.00049917j]]\n",
      "---------------\n",
      "<Z> = 0.9999500004166653\n"
     ]
    }
   ],
   "source": [
    "Z_matrix = np.array([[1, 0], [0, -1]]) # Pauli-Z operator\n",
    "psi_bra = np.conj(psi_ket.T)\n",
    "print('<psi| =', psi_bra)\n",
    "print('---------------')\n",
    "print('Z =')\n",
    "print(Z_matrix)\n",
    "print('---------------')\n",
    "print('|psi> =')\n",
    "print(psi_ket)\n",
    "print('---------------')\n",
    "excpectedValue = psi_bra@Z_matrix@psi_ket\n",
    "print('<Z> =', np.real(excpectedValue)[0][0])"
   ]
  },
  {
   "cell_type": "markdown",
   "metadata": {},
   "source": [
    "Note how the expectation values is very close to $1$. This is exactly what we computed mathematically."
   ]
  },
  {
   "cell_type": "markdown",
   "metadata": {},
   "source": [
    "# Cost function\n",
    "\n",
    "Now that we know how to compute the expected value, we can compute the cost function. We will create a function `cost_function` that will be used in the optimizer :"
   ]
  },
  {
   "cell_type": "code",
   "execution_count": 6,
   "metadata": {},
   "outputs": [
    {
     "name": "stdout",
     "output_type": "stream",
     "text": [
      "0.9999395006100393\n"
     ]
    }
   ],
   "source": [
    "def cost_function(w, w_param, qc, backend):\n",
    "    \n",
    "    # Compute state vector\n",
    "    statevectors = get_statevector(qc, w, w_param, backend)\n",
    "    \n",
    "    # Expectation value \n",
    "    psi = statevectors.reshape(2, 1)\n",
    "    excpectedValue = (np.conj(psi.T)@Z_matrix@psi)[0]\n",
    "        \n",
    "    return np.real(excpectedValue[0])\n",
    "\n",
    "\n",
    "# Get handles on the statevector simulator\n",
    "sv_sim = Aer.get_backend('statevector_simulator')\n",
    "\n",
    "# Compute cost\n",
    "initial_weights = np.array([0.011, 0.012, 0.1])\n",
    "result = cost_function(initial_weights, w_param, qc, sv_sim)\n",
    "print(result)"
   ]
  },
  {
   "cell_type": "markdown",
   "metadata": {},
   "source": [
    "# Optimizer\n",
    "\n",
    "Now that everything is defined, we will use a classical optimizer to find the parameter that will minimize the cost function. \n",
    "\n",
    "1. Traditionally, in machine learning, the optimizer needs a `callback` function that will give helpful information during the optimization process :\n"
   ]
  },
  {
   "cell_type": "code",
   "execution_count": 7,
   "metadata": {},
   "outputs": [],
   "source": [
    "def optimizer_callback(nb_fct_eval, params, fct_value, stepsize, step_accepted, train_history):\n",
    "    \"\"\"\n",
    "    Callback used to record the weight parameters at each epoch and to print\n",
    "    the progress of the loss. \n",
    "    \n",
    "    :param nb_fct_eval: The number of function evaluations\n",
    "    :param params: The parameters\n",
    "    :param fct_value: The function value\n",
    "    :param stepsize: The stepsize\n",
    "    :param step_accepted: Whether the step was accepted\n",
    "    :param train_history: A list to record the training parameters \n",
    "    \"\"\"\n",
    "    train_history.append(params)\n",
    "    \n",
    "    if ((nb_fct_eval - 1) %15 == 0) or ((nb_fct_eval-1)/3==1):\n",
    "        print(f'  > Epoch {int((nb_fct_eval - 1) / 3)} - loss: {fct_value:0.4f}')\n",
    "    \n",
    "\n"
   ]
  },
  {
   "cell_type": "markdown",
   "metadata": {},
   "source": [
    "2. Now, let's optimize! To do so, we use `SPSA`, a built-in classical optimizer in Qiskit.\n",
    "\n",
    "You can find optimizers and their description in the [Qiskit documentation](https://sooluthomas.github.io/testTranslation/aqua/optimizers.html)."
   ]
  },
  {
   "cell_type": "code",
   "execution_count": 14,
   "metadata": {},
   "outputs": [
    {
     "name": "stdout",
     "output_type": "stream",
     "text": [
      "  > Epoch 1 - loss: 0.8025\n",
      "  > Epoch 5 - loss: -0.7940\n",
      "  > Epoch 10 - loss: -0.2127\n",
      "  > Epoch 15 - loss: -0.5054\n",
      "  > Epoch 20 - loss: -0.6529\n",
      "  > Epoch 25 - loss: -0.7393\n",
      "  > Epoch 30 - loss: -0.7952\n",
      "  > Epoch 35 - loss: -0.8339\n",
      "  > Epoch 40 - loss: -0.8619\n",
      "  > Epoch 45 - loss: -0.8831\n",
      "  > Epoch 50 - loss: -0.8995\n",
      "  > Epoch 55 - loss: -0.9126\n",
      "  > Epoch 60 - loss: -0.9232\n",
      "  > Epoch 65 - loss: -0.9319\n",
      "  > Epoch 70 - loss: -0.9392\n",
      "  > Epoch 75 - loss: -0.9453\n",
      "  > Epoch 80 - loss: -0.9506\n",
      "  > Epoch 85 - loss: -0.9551\n",
      "  > Epoch 90 - loss: -0.9591\n",
      "  > Epoch 95 - loss: -0.9625\n",
      "  > Epoch 100 - loss: -0.9656\n",
      "  > Epoch 105 - loss: -0.9683\n",
      "  > Epoch 110 - loss: -0.9707\n",
      "  > Epoch 115 - loss: -0.9728\n",
      "  > Epoch 120 - loss: -0.9747\n",
      "  > Epoch 125 - loss: -0.9765\n",
      "  > Epoch 130 - loss: -0.9781\n",
      "  > Epoch 135 - loss: -0.9795\n",
      "  > Epoch 140 - loss: -0.9808\n",
      "  > Epoch 145 - loss: -0.9820\n",
      "  > Epoch 150 - loss: -0.9831\n",
      "  > Epoch 155 - loss: -0.9841\n",
      "  > Epoch 160 - loss: -0.9850\n",
      "  > Epoch 165 - loss: -0.9859\n",
      "  > Epoch 170 - loss: -0.9867\n",
      "  > Epoch 175 - loss: -0.9874\n",
      "  > Epoch 180 - loss: -0.9881\n",
      "  > Epoch 185 - loss: -0.9887\n",
      "  > Epoch 190 - loss: -0.9893\n",
      "  > Epoch 195 - loss: -0.9899\n",
      "  > Epoch 200 - loss: -0.9904\n"
     ]
    }
   ],
   "source": [
    "initial_weights = np.array([0.011, 0.012, 0.1])\n",
    "\n",
    "# Backend\n",
    "sv_sim = Aer.get_backend('statevector_simulator')\n",
    "\n",
    "train_history = []\n",
    "num_iter = 200\n",
    "\n",
    "# Initialize the SPSA optimizer\n",
    "optimizer = SPSA(maxiter=num_iter, blocking=True, callback=lambda n, p, v, ss, sa: optimizer_callback(n, p, v, ss, sa, train_history))\n",
    "\n",
    "# Optimize the PQC, it should take less than a minute\n",
    "weights, loss, nfev = optimizer.optimize(len(initial_weights), lambda params: cost_function(params, w_param, qc, sv_sim), initial_point=initial_weights)\n"
   ]
  },
  {
   "cell_type": "markdown",
   "metadata": {},
   "source": [
    "As you can see, the loss function ends up being the minimum possible value, very close to $-1$."
   ]
  },
  {
   "cell_type": "markdown",
   "metadata": {},
   "source": [
    "# Time for testing\n",
    "\n",
    "Now let's try our trained algorithm with the newly generated `weights`!"
   ]
  },
  {
   "cell_type": "code",
   "execution_count": 31,
   "metadata": {},
   "outputs": [
    {
     "data": {
      "text/plain": [
       "array([  3.03954683, -54.95253277,  42.01877404])"
      ]
     },
     "execution_count": 31,
     "metadata": {},
     "output_type": "execute_result"
    }
   ],
   "source": [
    "weights"
   ]
  },
  {
   "cell_type": "code",
   "execution_count": 35,
   "metadata": {},
   "outputs": [
    {
     "name": "stderr",
     "output_type": "stream",
     "text": [
      "C:\\Users\\Manu\\Anaconda3\\envs\\quantum\\lib\\site-packages\\qiskit\\visualization\\bloch.py:69: MatplotlibDeprecationWarning: \n",
      "The M attribute was deprecated in Matplotlib 3.4 and will be removed two minor releases later. Use self.axes.M instead.\n",
      "  x_s, y_s, _ = proj3d.proj_transform(xs3d, ys3d, zs3d, renderer.M)\n"
     ]
    },
    {
     "data": {
      "image/png": "[encoded data removed]",
      "text/plain": [
       "<Figure size 288x288 with 1 Axes>"
      ]
     },
     "execution_count": 35,
     "metadata": {},
     "output_type": "execute_result"
    }
   ],
   "source": [
    "from qiskit.visualization import plot_bloch_multivector\n",
    "from qiskit.quantum_info import Statevector\n",
    "\n",
    "psi0 = Statevector.from_label('0') # Initialize state |0>\n",
    "params_dict = {p:v for (p,v) in zip(w_param, weights)} # Create a dictionary of Parameter:value\n",
    "qc_grounded = qc.bind_parameters(params_dict) # Bind parameters to the circuit\n",
    "new_sv = psi0.evolve(qc_grounded) # Apply the circuit to the initial state\n",
    "\n",
    "plot_bloch_multivector(new_sv.data)\n",
    "\n"
   ]
  },
  {
   "cell_type": "markdown",
   "metadata": {},
   "source": [
    "As you can see the vector is almost pointing in the down direction!"
   ]
  }
 ],
 "metadata": {
  "interpreter": {
   "hash": "06083bd776f62e7fab1a1ecb42a809aa7166993e833de293bc9c2c3bbc3e2e2a"
  },
  "kernelspec": {
   "display_name": "Python 3.7.10 64-bit ('quantum': conda)",
   "name": "python3"
  },
  "language_info": {
   "codemirror_mode": {
    "name": "ipython",
    "version": 3
   },
   "file_extension": ".py",
   "mimetype": "text/x-python",
   "name": "python",
   "nbconvert_exporter": "python",
   "pygments_lexer": "ipython3",
   "version": "3.7.10"
  },
  "orig_nbformat": 4
 },
 "nbformat": 4,
 "nbformat_minor": 2
}
