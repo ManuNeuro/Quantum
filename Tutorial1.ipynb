{
 "cells": [
  {
   "cell_type": "markdown",
   "source": [
    "This code is a Qiskit implementation, inspired by [Pennylane first tutorial](https://pennylane.ai/qml/demos/tutorial_qubit_rotation.html).\r\n",
    "\r\n",
    "# Objective \r\n",
    "We want te recreate a NOT gate, using a 3-parameters, parametrized quantum circuit, by classical optimization of its parameters.\r\n",
    "\r\n",
    "# Quantum circuit\r\n",
    "As we have seen, qubit state are always initialized in the state $|0\\rangle=\\begin{bmatrix} 1 \\\\ 0\\end{bmatrix}$\r\n",
    "\r\n",
    "Now consider the following quantum gate :\r\n",
    "\r\n",
    "$$U(\\theta, \\phi, \\lambda) = \\begin{bmatrix} \\cos(\\frac{\\theta}{2}) & -e^{i\\lambda}\\sin(\\frac{\\theta}{2}) \\\\\r\n",
    "            e^{i\\phi}\\sin(\\frac{\\theta}{2}) & e^{i(\\phi+\\lambda)}\\cos(\\frac{\\theta}{2})\r\n",
    "     \\end{bmatrix}$$\r\n",
    "\r\n",
    "This is the most general *one qubit* quamtum gate, from which you can obtain all other *one qubit* canonical gates.\r\n",
    "\r\n",
    "# Protocole :\r\n",
    "1. First we will apply this gate to the initial state $|0\\rangle$, such that we obtain the new state $|\\psi\\rangle$ : $|\\psi\\rangle=U_3|0\\rangle$.\r\n",
    "2. Second we will measure the expectation value  $\\langle\\psi|\\sigma_z|\\psi\\rangle$ along the axis Z, with the pauli-Z operator :\r\n",
    "\r\n",
    "$$\\begin{split}\\sigma_z =\r\n",
    "\\begin{bmatrix} 1 &  0 \\\\\r\n",
    "                0 & -1\r\n",
    "\\end{bmatrix}.\\end{split}$$\r\n",
    "\r\n",
    "# Solution\r\n",
    "First by replacing $|\\psi\\rangle$ in the expression $\\langle\\psi|\\sigma_z|\\psi\\rangle$ we have :\r\n",
    "\r\n",
    "$$\\langle\\psi|\\sigma_z|\\psi\\rangle = \\langle0|U_3^{\\dagger}\\sigma_zU_3|0\\rangle$$\r\n",
    "\r\n",
    "By recalling that $\\dagger$ is the complex conjugate, and with a bit of maths, we can show that the solution is :\r\n",
    "$$\\langle\\psi|\\sigma_z|\\psi\\rangle=cos^2(\\theta/2)-sin^2(\\theta/2)$$\r\n",
    "\r\n",
    "Several things to note here :\r\n",
    "1. First, since we are measuring on the Z-basis, the solution only depends on the parameter $\\theta$ ! Hence, the two other parameters are not needed.\r\n",
    "2. We can easily deduce optimal parameter value by plotting some parameter values  :\r\n",
    "     - For $\\theta=0$ $\\rarr$  $cos^2(\\theta/2)-sin^2(\\theta/2)=1$\r\n",
    "     - For $\\theta=\\pi/2$ $\\rarr$  $cos^2(\\theta/2)-sin^2(\\theta/2)=0$\r\n",
    "     - For $\\theta=\\pi$ $\\rarr$  $cos^2(\\theta/2)-sin^2(\\theta/2)=-1$\r\n",
    "3. Remark that, assuming $\\phi$ and $\\lambda$ are zero, this will gives exactly the Pauli-X gate :\r\n",
    "$$U(\\pi, 0, 0)=\\begin{split}\\sigma_x =\r\n",
    "\\begin{bmatrix} 0 &  1 \\\\\r\n",
    "                1 & 0\r\n",
    "\\end{bmatrix}.\\end{split}$$\r\n",
    "4. Trivially, the solution we hope the algorithm will find, is $\\theta=\\pi$ ! Because\r\n",
    "by definition :\r\n",
    "$$\\sigma_x|0\\rangle=|1\\rangle=\\begin{bmatrix} 0 \\\\ 1 \\end{bmatrix}$$\r\n",
    "\r\n",
    "# Cost function\r\n",
    "Since the solution we want must be the one associated with the minmum in our cost functin, without realizing it, we just encoded our **cost function** in the **expectation value**!\r\n"
   ],
   "metadata": {}
  },
  {
   "cell_type": "markdown",
   "source": [
    "# Import libraries"
   ],
   "metadata": {}
  },
  {
   "cell_type": "code",
   "execution_count": 90,
   "source": [
    "# Libraries\r\n",
    "import matplotlib.pyplot as plt\r\n",
    "import numpy as np\r\n",
    "\r\n",
    "from qiskit import QuantumCircuit, Aer, execute\r\n",
    "from qiskit.circuit import Parameter\r\n",
    "from qiskit.algorithms.optimizers import SPSA\r\n",
    "from qiskit.quantum_info import Statevector\r\n",
    "\r\n"
   ],
   "outputs": [],
   "metadata": {}
  },
  {
   "cell_type": "markdown",
   "source": [
    "# Implementing the circuit\r\n",
    "\r\n",
    "We have to create a circuit, that will take `Parameter` object as argument of the `U` gate."
   ],
   "metadata": {}
  },
  {
   "cell_type": "code",
   "execution_count": 91,
   "source": [
    "# Quantum circuit with parameters\r\n",
    "\r\n",
    "def circuit(qc, W):        \r\n",
    "    qc.u( W[0],  W[1],  W[2], 0) # Unitary gate with 3 paramters\r\n",
    "    return qc\r\n",
    "\r\n",
    "\r\n",
    "qc = QuantumCircuit(1) # Create the circuit, with one qubit\r\n",
    "nbParameter = 3\r\n",
    "w_param = [Parameter(f'w{i}') for i in range(nbParameter)] # Create a list of Parameter objects\r\n",
    "qc = circuit(qc, w_param)\r\n",
    "qc.draw('mpl')"
   ],
   "outputs": [
    {
     "output_type": "execute_result",
     "data": {
      "image/png": "[encoded data removed]",
      "image/svg+xml": "<?xml version=\"1.0\" encoding=\"utf-8\" standalone=\"no\"?>\r\n<!DOCTYPE svg PUBLIC \"-//W3C//DTD SVG 1.1//EN\"\r\n  \"http://www.w3.org/Graphics/SVG/1.1/DTD/svg11.dtd\">\r\n<svg height=\"78.0314pt\" version=\"1.1\" viewBox=\"0 0 160.663136 78.0314\" width=\"160.663136pt\" xmlns=\"http://www.w3.org/2000/svg\" xmlns:xlink=\"http://www.w3.org/1999/xlink\">\r\n <metadata>\r\n  <rdf:RDF xmlns:cc=\"http://creativecommons.org/ns#\" xmlns:dc=\"http://purl.org/dc/elements/1.1/\" xmlns:rdf=\"http://www.w3.org/1999/02/22-rdf-syntax-ns#\">\r\n   <cc:Work>\r\n    <dc:type rdf:resource=\"http://purl.org/dc/dcmitype/StillImage\"/>\r\n    <dc:date>2021-10-14T16:38:53.917036</dc:date>\r\n    <dc:format>image/svg+xml</dc:format>\r\n    <dc:creator>\r\n     <cc:Agent>\r\n      <dc:title>Matplotlib v3.4.2, https://matplotlib.org/</dc:title>\r\n     </cc:Agent>\r\n    </dc:creator>\r\n   </cc:Work>\r\n  </rdf:RDF>\r\n </metadata>\r\n <defs>\r\n  <style type=\"text/css\">*{stroke-linecap:butt;stroke-linejoin:round;}</style>\r\n </defs>\r\n <g id=\"figure_1\">\r\n  <g id=\"patch_1\">\r\n   <path d=\"M 0 78.0314 \r\nL 160.663136 78.0314 \r\nL 160.663136 0 \r\nL 0 0 \r\nz\r\n\" style=\"fill:#ffffff;\"/>\r\n  </g>\r\n  <g id=\"axes_1\">\r\n   <g id=\"line2d_1\">\r\n    <path clip-path=\"url(#pd3fa54f036)\" d=\"M 53.470936 43.5608 \r\nL 148.918036 43.5608 \r\n\" style=\"fill:none;stroke:#000000;stroke-linecap:square;stroke-width:2;\"/>\r\n   </g>\r\n   <g id=\"patch_2\">\r\n    <path clip-path=\"url(#pd3fa54f036)\" d=\"M 77.066823 58.332375 \r\nL 124.413129 58.332375 \r\nL 124.413129 28.789225 \r\nL 77.066823 28.789225 \r\nz\r\n\" style=\"fill:#bb8bff;stroke:#bb8bff;stroke-linejoin:miter;stroke-width:1.5;\"/>\r\n   </g>\r\n   <g id=\"text_1\">\r\n    <g clip-path=\"url(#pd3fa54f036)\">\r\n     <!-- U -->\r\n     <g transform=\"translate(95.982789 42.716515)scale(0.13 -0.13)\">\r\n      <defs>\r\n       <path d=\"M 556 4666 \r\nL 1191 4666 \r\nL 1191 1831 \r\nQ 1191 1081 1462 751 \r\nQ 1734 422 2344 422 \r\nQ 2950 422 3222 751 \r\nQ 3494 1081 3494 1831 \r\nL 3494 4666 \r\nL 4128 4666 \r\nL 4128 1753 \r\nQ 4128 841 3676 375 \r\nQ 3225 -91 2344 -91 \r\nQ 1459 -91 1007 375 \r\nQ 556 841 556 1753 \r\nL 556 4666 \r\nz\r\n\" id=\"DejaVuSans-55\" transform=\"scale(0.015625)\"/>\r\n      </defs>\r\n      <use xlink:href=\"#DejaVuSans-55\"/>\r\n     </g>\r\n    </g>\r\n   </g>\r\n   <g id=\"text_2\">\r\n    <g clip-path=\"url(#pd3fa54f036)\">\r\n     <!-- w0, w1, w2 -->\r\n     <g transform=\"translate(78.206226 54.631245)scale(0.08 -0.08)\">\r\n      <defs>\r\n       <path d=\"M 269 3500 \r\nL 844 3500 \r\nL 1563 769 \r\nL 2278 3500 \r\nL 2956 3500 \r\nL 3675 769 \r\nL 4391 3500 \r\nL 4966 3500 \r\nL 4050 0 \r\nL 3372 0 \r\nL 2619 2869 \r\nL 1863 0 \r\nL 1184 0 \r\nL 269 3500 \r\nz\r\n\" id=\"DejaVuSans-77\" transform=\"scale(0.015625)\"/>\r\n       <path d=\"M 2034 4250 \r\nQ 1547 4250 1301 3770 \r\nQ 1056 3291 1056 2328 \r\nQ 1056 1369 1301 889 \r\nQ 1547 409 2034 409 \r\nQ 2525 409 2770 889 \r\nQ 3016 1369 3016 2328 \r\nQ 3016 3291 2770 3770 \r\nQ 2525 4250 2034 4250 \r\nz\r\nM 2034 4750 \r\nQ 2819 4750 3233 4129 \r\nQ 3647 3509 3647 2328 \r\nQ 3647 1150 3233 529 \r\nQ 2819 -91 2034 -91 \r\nQ 1250 -91 836 529 \r\nQ 422 1150 422 2328 \r\nQ 422 3509 836 4129 \r\nQ 1250 4750 2034 4750 \r\nz\r\n\" id=\"DejaVuSans-30\" transform=\"scale(0.015625)\"/>\r\n       <path d=\"M 750 794 \r\nL 1409 794 \r\nL 1409 256 \r\nL 897 -744 \r\nL 494 -744 \r\nL 750 256 \r\nL 750 794 \r\nz\r\n\" id=\"DejaVuSans-2c\" transform=\"scale(0.015625)\"/>\r\n       <path id=\"DejaVuSans-20\" transform=\"scale(0.015625)\"/>\r\n       <path d=\"M 794 531 \r\nL 1825 531 \r\nL 1825 4091 \r\nL 703 3866 \r\nL 703 4441 \r\nL 1819 4666 \r\nL 2450 4666 \r\nL 2450 531 \r\nL 3481 531 \r\nL 3481 0 \r\nL 794 0 \r\nL 794 531 \r\nz\r\n\" id=\"DejaVuSans-31\" transform=\"scale(0.015625)\"/>\r\n       <path d=\"M 1228 531 \r\nL 3431 531 \r\nL 3431 0 \r\nL 469 0 \r\nL 469 531 \r\nQ 828 903 1448 1529 \r\nQ 2069 2156 2228 2338 \r\nQ 2531 2678 2651 2914 \r\nQ 2772 3150 2772 3378 \r\nQ 2772 3750 2511 3984 \r\nQ 2250 4219 1831 4219 \r\nQ 1534 4219 1204 4116 \r\nQ 875 4013 500 3803 \r\nL 500 4441 \r\nQ 881 4594 1212 4672 \r\nQ 1544 4750 1819 4750 \r\nQ 2544 4750 2975 4387 \r\nQ 3406 4025 3406 3419 \r\nQ 3406 3131 3298 2873 \r\nQ 3191 2616 2906 2266 \r\nQ 2828 2175 2409 1742 \r\nQ 1991 1309 1228 531 \r\nz\r\n\" id=\"DejaVuSans-32\" transform=\"scale(0.015625)\"/>\r\n      </defs>\r\n      <use xlink:href=\"#DejaVuSans-77\"/>\r\n      <use x=\"81.787109\" xlink:href=\"#DejaVuSans-30\"/>\r\n      <use x=\"145.410156\" xlink:href=\"#DejaVuSans-2c\"/>\r\n      <use x=\"177.197266\" xlink:href=\"#DejaVuSans-20\"/>\r\n      <use x=\"208.984375\" xlink:href=\"#DejaVuSans-77\"/>\r\n      <use x=\"290.771484\" xlink:href=\"#DejaVuSans-31\"/>\r\n      <use x=\"354.394531\" xlink:href=\"#DejaVuSans-2c\"/>\r\n      <use x=\"386.181641\" xlink:href=\"#DejaVuSans-20\"/>\r\n      <use x=\"417.96875\" xlink:href=\"#DejaVuSans-77\"/>\r\n      <use x=\"499.755859\" xlink:href=\"#DejaVuSans-32\"/>\r\n     </g>\r\n    </g>\r\n   </g>\r\n   <g id=\"text_3\">\r\n    <g clip-path=\"url(#pd3fa54f036)\">\r\n     <!-- q -->\r\n     <g transform=\"translate(34.064525 48.044784)scale(0.1625 -0.1625)\">\r\n      <defs>\r\n       <path d=\"M 947 1747 \r\nQ 947 1113 1208 752 \r\nQ 1469 391 1925 391 \r\nQ 2381 391 2643 752 \r\nQ 2906 1113 2906 1747 \r\nQ 2906 2381 2643 2742 \r\nQ 2381 3103 1925 3103 \r\nQ 1469 3103 1208 2742 \r\nQ 947 2381 947 1747 \r\nz\r\nM 2906 525 \r\nQ 2725 213 2448 61 \r\nQ 2172 -91 1784 -91 \r\nQ 1150 -91 751 415 \r\nQ 353 922 353 1747 \r\nQ 353 2572 751 3078 \r\nQ 1150 3584 1784 3584 \r\nQ 2172 3584 2448 3432 \r\nQ 2725 3281 2906 2969 \r\nL 2906 3500 \r\nL 3481 3500 \r\nL 3481 -1331 \r\nL 2906 -1331 \r\nL 2906 525 \r\nz\r\n\" id=\"DejaVuSans-71\" transform=\"scale(0.015625)\"/>\r\n      </defs>\r\n      <use xlink:href=\"#DejaVuSans-71\"/>\r\n     </g>\r\n    </g>\r\n   </g>\r\n  </g>\r\n </g>\r\n <defs>\r\n  <clipPath id=\"pd3fa54f036\">\r\n   <rect height=\"63.6314\" width=\"146.263136\" x=\"7.2\" y=\"7.2\"/>\r\n  </clipPath>\r\n </defs>\r\n</svg>\r\n",
      "text/plain": [
       "<Figure size 193.726x84.28 with 1 Axes>"
      ]
     },
     "metadata": {},
     "execution_count": 91
    }
   ],
   "metadata": {}
  },
  {
   "cell_type": "markdown",
   "source": [
    "# State vector\r\n",
    "\r\n",
    "The purpose of this tutorial is to illustrate how the quamtum circuit relate\r\n",
    "to the mathematics.\r\n",
    "\r\n",
    "We will use the `statevector_simulator` that can actually compute the mathematical state vector of the quantum circuit as gates are applied.\r\n",
    "As always we will use the `execute` function to run the circuit.\r\n",
    "\r\n",
    "*NB : in practise, you cannot access to the vector state of a real quantum circuit*\r\n",
    "\r\n",
    "Since we will have to perform this operation many times, it will be\r\n",
    "easier if we create a function `get_statevector` :"
   ],
   "metadata": {}
  },
  {
   "cell_type": "code",
   "execution_count": 92,
   "source": [
    "def get_statevector(qc, w, param_w, backend):\r\n",
    "    \"\"\"\r\n",
    "    Binds the parameters of a parametrized quantum circuit to their values and execute\r\n",
    "    the circuit with the statevector simulator.\r\n",
    "    \"\"\"\r\n",
    "\r\n",
    "    # Bind parameter values to the circuit\r\n",
    "    params_dict = {p:v for (p,v) in zip(param_w, w)}\r\n",
    "    grounded_circ = qc.bind_parameters(params_dict)\r\n",
    "\r\n",
    "    # Execute and get state vector\r\n",
    "    result = execute(grounded_circ, backend).result()\r\n",
    "    statevector = result.get_statevector(0)\r\n",
    "\r\n",
    "    return statevector.reshape(2, 1)"
   ],
   "outputs": [],
   "metadata": {}
  },
  {
   "cell_type": "markdown",
   "source": [
    "# Example \r\n",
    "In the following box, we use this function in order to display the state vector for some value of the parameters :"
   ],
   "metadata": {}
  },
  {
   "cell_type": "code",
   "execution_count": 93,
   "source": [
    "# Backend simulator\r\n",
    "sv_sim = Aer.get_backend('statevector_simulator')\r\n",
    "\r\n",
    "W_init = [0.01, 0.1, 0.1]\r\n",
    "psi_ket = get_statevector(qc, W_init, w_param, sv_sim)\r\n",
    "\r\n",
    "print(psi_ket)\r\n"
   ],
   "outputs": [
    {
     "output_type": "stream",
     "name": "stdout",
     "text": [
      "[[0.9999875+0.j        ]\n",
      " [0.004975 +0.00049917j]]\n"
     ]
    }
   ],
   "metadata": {}
  },
  {
   "cell_type": "markdown",
   "source": [
    "As you can see, since we put very low values of the $\\theta$ parameters the real part of $|\\psi\\rangle$ is very close to one, as expected.\r\n",
    "\r\n",
    "*NB : you can verify that the result would not change if you modifyed $\\phi$ or $\\lambda$*."
   ],
   "metadata": {}
  },
  {
   "cell_type": "markdown",
   "source": [
    "# Expectation value\r\n",
    "\r\n",
    "Now it is time to implement the expectation value, as mentioned earlier\r\n",
    "of the pauli-Z operator :\r\n",
    "\r\n",
    "$$\\begin{split}\\sigma_z =\r\n",
    "\\begin{bmatrix} 1 &  0 \\\\\r\n",
    "                0 & -1\r\n",
    "\\end{bmatrix}.\\end{split}$$\r\n",
    "\r\n",
    "We want to compute $\\langle\\psi|\\sigma_z|\\psi\\rangle$ :"
   ],
   "metadata": {}
  },
  {
   "cell_type": "code",
   "execution_count": 94,
   "source": [
    "Z_matrix = np.array([[1, 0], [0, -1]]) # Pauli-Z operator\r\n",
    "psi_bra = np.conj(psi_ket.T)\r\n",
    "print('<psi| =', psi_bra)\r\n",
    "print('---------------')\r\n",
    "print('Z =', Z_matrix)\r\n",
    "print('---------------')\r\n",
    "print('|psi> =', psi_ket)\r\n",
    "print('---------------')\r\n",
    "excpectedValue = psi_bra@Z_matrix@psi_ket\r\n",
    "print('<Z> =', np.real(excpectedValue)[0][0])"
   ],
   "outputs": [
    {
     "output_type": "stream",
     "name": "stdout",
     "text": [
      "<psi| = [[0.9999875-0.j         0.004975 -0.00049917j]]\n",
      "---------------\n",
      "Z = [[ 1  0]\n",
      " [ 0 -1]]\n",
      "---------------\n",
      "|psi> = [[0.9999875+0.j        ]\n",
      " [0.004975 +0.00049917j]]\n",
      "---------------\n",
      "<Z> = 0.9999500004166653\n"
     ]
    }
   ],
   "metadata": {}
  },
  {
   "cell_type": "markdown",
   "source": [
    "# Cost function\r\n",
    "\r\n",
    "Now we need a function that will compute the cost, as being the\r\n",
    "expectation value of the total quantum circuit along the Z-axis."
   ],
   "metadata": {}
  },
  {
   "cell_type": "code",
   "execution_count": 95,
   "source": [
    "def cost_function(w, w_param, qc, backend):\r\n",
    "    \r\n",
    "    # Compute state vector\r\n",
    "    statevectors = get_statevector(qc, w, w_param, backend)\r\n",
    "    \r\n",
    "    # Expectation value \r\n",
    "    psi = statevectors.reshape(2, 1)\r\n",
    "    excpectedValue = (np.conj(psi.T)@Z_matrix@psi)[0]\r\n",
    "        \r\n",
    "    return np.real(excpectedValue[0])\r\n",
    "\r\n",
    "\r\n",
    "# Get handles on the statevector simulator\r\n",
    "sv_sim = Aer.get_backend('statevector_simulator')\r\n",
    "\r\n",
    "# Compute cost\r\n",
    "initial_weights = np.array([0.011, 0.012, 0.1])\r\n",
    "result = cost_function(initial_weights, w_param, qc, sv_sim)\r\n",
    "print(result)"
   ],
   "outputs": [
    {
     "output_type": "stream",
     "name": "stdout",
     "text": [
      "0.9999395006100393\n"
     ]
    }
   ],
   "metadata": {}
  },
  {
   "cell_type": "markdown",
   "source": [
    "# Optimizer\r\n",
    "\r\n",
    "Now that we have define everything, it's time to **optimize** !\r\n",
    "\r\n",
    "First, traditionally in machine learning, optimizer need a `callback` function, that will give usefull information during the optimization process :\r\n"
   ],
   "metadata": {}
  },
  {
   "cell_type": "code",
   "execution_count": 114,
   "source": [
    "def optimizer_callback(nb_fct_eval, params, fct_value, stepsize, step_accepted, train_history):\r\n",
    "    \"\"\"\r\n",
    "    Callback used to record the weight parameters at each epoch and to print\r\n",
    "    the progress of the loss. \r\n",
    "    \r\n",
    "    :param nb_fct_eval: The number of function evaluations\r\n",
    "    :param params: The parameters\r\n",
    "    :param fct_value: The function value\r\n",
    "    :param stepsize: The stepsize\r\n",
    "    :param step_accepted: Whether the step was accepted\r\n",
    "    :param train_history: A list to record the training parameters \r\n",
    "    \"\"\"\r\n",
    "    train_history.append(params)\r\n",
    "    \r\n",
    "    if ((nb_fct_eval - 1) %15 == 0) or ((nb_fct_eval-1)/3==1):\r\n",
    "        print(f'  > Epoch {int((nb_fct_eval - 1) / 3)} - loss: {fct_value:0.4f}')\r\n",
    "    \r\n",
    "\r\n"
   ],
   "outputs": [],
   "metadata": {}
  },
  {
   "cell_type": "markdown",
   "source": [
    "Now we will optimize ! To do so we will use `SPSA`, a built-in classical optimizer in Qiskit.\r\n",
    "You can find optimizers along with their description in [Qiskit documentation](https://sooluthomas.github.io/testTranslation/aqua/optimizers.html)."
   ],
   "metadata": {}
  },
  {
   "cell_type": "code",
   "execution_count": 115,
   "source": [
    "initial_weights = np.array([0.011, 0.012, 0.1])\r\n",
    "\r\n",
    "# Backend\r\n",
    "sv_sim = Aer.get_backend('statevector_simulator')\r\n",
    "\r\n",
    "train_history = []\r\n",
    "num_iter =200\r\n",
    "\r\n",
    "# Initialize the SPSA optimizer\r\n",
    "optimizer = SPSA(maxiter=num_iter, blocking=True, callback=lambda n, p, v, ss, sa: optimizer_callback(n, p, v, ss, sa, train_history))\r\n",
    "\r\n",
    "# Optimize the PQC, it should take less than a minute\r\n",
    "point, loss, nfev = optimizer.optimize(len(initial_weights), lambda params: cost_function(params, w_param, qc, sv_sim), initial_point=initial_weights)\r\n"
   ],
   "outputs": [
    {
     "output_type": "stream",
     "name": "stdout",
     "text": [
      "  > Epoch 1 - loss: 0.8025\n",
      "  > Epoch 5 - loss: -0.7940\n",
      "  > Epoch 10 - loss: -0.2127\n",
      "  > Epoch 15 - loss: -0.5054\n",
      "  > Epoch 20 - loss: -0.6529\n",
      "  > Epoch 25 - loss: -0.7393\n",
      "  > Epoch 30 - loss: -0.7952\n",
      "  > Epoch 35 - loss: -0.8339\n",
      "  > Epoch 40 - loss: -0.8619\n",
      "  > Epoch 45 - loss: -0.8831\n",
      "  > Epoch 50 - loss: -0.8995\n",
      "  > Epoch 55 - loss: -0.9126\n",
      "  > Epoch 60 - loss: -0.9232\n",
      "  > Epoch 65 - loss: -0.9319\n",
      "  > Epoch 70 - loss: -0.9392\n",
      "  > Epoch 75 - loss: -0.9453\n",
      "  > Epoch 80 - loss: -0.9506\n",
      "  > Epoch 85 - loss: -0.9551\n",
      "  > Epoch 90 - loss: -0.9591\n",
      "  > Epoch 95 - loss: -0.9625\n",
      "  > Epoch 100 - loss: -0.9656\n",
      "  > Epoch 105 - loss: -0.9683\n",
      "  > Epoch 110 - loss: -0.9707\n",
      "  > Epoch 115 - loss: -0.9728\n",
      "  > Epoch 120 - loss: -0.9747\n",
      "  > Epoch 125 - loss: -0.9765\n",
      "  > Epoch 130 - loss: -0.9781\n",
      "  > Epoch 135 - loss: -0.9795\n",
      "  > Epoch 140 - loss: -0.9808\n",
      "  > Epoch 145 - loss: -0.9820\n",
      "  > Epoch 150 - loss: -0.9831\n",
      "  > Epoch 155 - loss: -0.9841\n",
      "  > Epoch 160 - loss: -0.9850\n",
      "  > Epoch 165 - loss: -0.9859\n",
      "  > Epoch 170 - loss: -0.9867\n",
      "  > Epoch 175 - loss: -0.9874\n",
      "  > Epoch 180 - loss: -0.9881\n",
      "  > Epoch 185 - loss: -0.9887\n",
      "  > Epoch 190 - loss: -0.9893\n",
      "  > Epoch 195 - loss: -0.9899\n",
      "  > Epoch 200 - loss: -0.9904\n"
     ]
    }
   ],
   "metadata": {}
  }
 ],
 "metadata": {
  "orig_nbformat": 4,
  "language_info": {
   "name": "python",
   "version": "3.7.10",
   "mimetype": "text/x-python",
   "codemirror_mode": {
    "name": "ipython",
    "version": 3
   },
   "pygments_lexer": "ipython3",
   "nbconvert_exporter": "python",
   "file_extension": ".py"
  },
  "kernelspec": {
   "name": "python3",
   "display_name": "Python 3.7.10 64-bit ('quantum': conda)"
  },
  "interpreter": {
   "hash": "06083bd776f62e7fab1a1ecb42a809aa7166993e833de293bc9c2c3bbc3e2e2a"
  }
 },
 "nbformat": 4,
 "nbformat_minor": 2
}
